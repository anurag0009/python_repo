{
 "cells": [
  {
   "cell_type": "code",
   "execution_count": 8,
   "metadata": {},
   "outputs": [],
   "source": [
    "l=[1,2,3,4]"
   ]
  },
  {
   "cell_type": "code",
   "execution_count": 10,
   "metadata": {},
   "outputs": [],
   "source": [
    "l=iter(l)"
   ]
  },
  {
   "cell_type": "code",
   "execution_count": 11,
   "metadata": {},
   "outputs": [
    {
     "data": {
      "text/plain": [
       "1"
      ]
     },
     "execution_count": 11,
     "metadata": {},
     "output_type": "execute_result"
    }
   ],
   "source": [
    "next(l)"
   ]
  },
  {
   "cell_type": "code",
   "execution_count": 12,
   "metadata": {},
   "outputs": [
    {
     "data": {
      "text/plain": [
       "2"
      ]
     },
     "execution_count": 12,
     "metadata": {},
     "output_type": "execute_result"
    }
   ],
   "source": [
    "next(l)"
   ]
  },
  {
   "cell_type": "code",
   "execution_count": 13,
   "metadata": {},
   "outputs": [
    {
     "data": {
      "text/plain": [
       "3"
      ]
     },
     "execution_count": 13,
     "metadata": {},
     "output_type": "execute_result"
    }
   ],
   "source": [
    "next(l)"
   ]
  },
  {
   "cell_type": "code",
   "execution_count": 14,
   "metadata": {},
   "outputs": [
    {
     "data": {
      "text/plain": [
       "4"
      ]
     },
     "execution_count": 14,
     "metadata": {},
     "output_type": "execute_result"
    }
   ],
   "source": [
    "next(l)"
   ]
  },
  {
   "cell_type": "code",
   "execution_count": 15,
   "metadata": {},
   "outputs": [
    {
     "ename": "StopIteration",
     "evalue": "",
     "output_type": "error",
     "traceback": [
      "\u001b[0;31m---------------------------------------------------------------------------\u001b[0m",
      "\u001b[0;31mStopIteration\u001b[0m                             Traceback (most recent call last)",
      "Cell \u001b[0;32mIn [15], line 1\u001b[0m\n\u001b[0;32m----> 1\u001b[0m \u001b[39mnext\u001b[39;49m(l)\n",
      "\u001b[0;31mStopIteration\u001b[0m: "
     ]
    }
   ],
   "source": [
    "next(l)"
   ]
  },
  {
   "cell_type": "code",
   "execution_count": 36,
   "metadata": {},
   "outputs": [],
   "source": [
    "def cube(n):\n",
    "    l = []\n",
    "    for i in range(n):\n",
    "        l.append(i**2)\n",
    "    return l"
   ]
  },
  {
   "cell_type": "code",
   "execution_count": 37,
   "metadata": {},
   "outputs": [
    {
     "data": {
      "text/plain": [
       "[0, 1, 4, 9, 16]"
      ]
     },
     "execution_count": 37,
     "metadata": {},
     "output_type": "execute_result"
    }
   ],
   "source": [
    "cube(5)"
   ]
  },
  {
   "cell_type": "code",
   "execution_count": 38,
   "metadata": {},
   "outputs": [],
   "source": [
    "#fibbonaci sequence\n",
    "\n",
    "def fib(n):\n",
    "    a=1\n",
    "    b=1\n",
    "    for i in range(n):\n",
    "        yield a,i\n",
    "        a,b =a,a+b\n"
   ]
  },
  {
   "cell_type": "code",
   "execution_count": 40,
   "metadata": {},
   "outputs": [
    {
     "name": "stdout",
     "output_type": "stream",
     "text": [
      "(1, 0)\n",
      "(1, 1)\n",
      "(1, 2)\n",
      "(1, 3)\n",
      "(1, 4)\n",
      "(1, 5)\n",
      "(1, 6)\n",
      "(1, 7)\n",
      "(1, 8)\n",
      "(1, 9)\n",
      "(1, 10)\n",
      "(1, 11)\n",
      "(1, 12)\n",
      "(1, 13)\n",
      "(1, 14)\n",
      "(1, 15)\n",
      "(1, 16)\n",
      "(1, 17)\n",
      "(1, 18)\n",
      "(1, 19)\n",
      "(1, 20)\n",
      "(1, 21)\n",
      "(1, 22)\n",
      "(1, 23)\n",
      "(1, 24)\n",
      "(1, 25)\n",
      "(1, 26)\n",
      "(1, 27)\n",
      "(1, 28)\n",
      "(1, 29)\n",
      "(1, 30)\n",
      "(1, 31)\n",
      "(1, 32)\n",
      "(1, 33)\n",
      "(1, 34)\n",
      "(1, 35)\n",
      "(1, 36)\n",
      "(1, 37)\n",
      "(1, 38)\n",
      "(1, 39)\n",
      "(1, 40)\n",
      "(1, 41)\n",
      "(1, 42)\n",
      "(1, 43)\n",
      "(1, 44)\n",
      "(1, 45)\n",
      "(1, 46)\n",
      "(1, 47)\n",
      "(1, 48)\n",
      "(1, 49)\n",
      "(1, 50)\n",
      "(1, 51)\n",
      "(1, 52)\n",
      "(1, 53)\n",
      "(1, 54)\n",
      "(1, 55)\n",
      "(1, 56)\n",
      "(1, 57)\n",
      "(1, 58)\n",
      "(1, 59)\n",
      "(1, 60)\n",
      "(1, 61)\n",
      "(1, 62)\n",
      "(1, 63)\n",
      "(1, 64)\n",
      "(1, 65)\n",
      "(1, 66)\n",
      "(1, 67)\n",
      "(1, 68)\n",
      "(1, 69)\n",
      "(1, 70)\n",
      "(1, 71)\n",
      "(1, 72)\n",
      "(1, 73)\n",
      "(1, 74)\n",
      "(1, 75)\n",
      "(1, 76)\n",
      "(1, 77)\n",
      "(1, 78)\n",
      "(1, 79)\n",
      "(1, 80)\n",
      "(1, 81)\n",
      "(1, 82)\n",
      "(1, 83)\n",
      "(1, 84)\n",
      "(1, 85)\n",
      "(1, 86)\n",
      "(1, 87)\n",
      "(1, 88)\n",
      "(1, 89)\n",
      "(1, 90)\n",
      "(1, 91)\n",
      "(1, 92)\n",
      "(1, 93)\n",
      "(1, 94)\n",
      "(1, 95)\n",
      "(1, 96)\n",
      "(1, 97)\n",
      "(1, 98)\n",
      "(1, 99)\n"
     ]
    }
   ],
   "source": [
    "for i in fib(100):\n",
    "    print(i)"
   ]
  },
  {
   "cell_type": "code",
   "execution_count": null,
   "metadata": {},
   "outputs": [],
   "source": []
  }
 ],
 "metadata": {
  "kernelspec": {
   "display_name": "Python 3.10.7 64-bit",
   "language": "python",
   "name": "python3"
  },
  "language_info": {
   "codemirror_mode": {
    "name": "ipython",
    "version": 3
   },
   "file_extension": ".py",
   "mimetype": "text/x-python",
   "name": "python",
   "nbconvert_exporter": "python",
   "pygments_lexer": "ipython3",
   "version": "3.10.7"
  },
  "orig_nbformat": 4,
  "vscode": {
   "interpreter": {
    "hash": "aee8b7b246df8f9039afb4144a1f6fd8d2ca17a180786b69acc140d282b71a49"
   }
  }
 },
 "nbformat": 4,
 "nbformat_minor": 2
}
